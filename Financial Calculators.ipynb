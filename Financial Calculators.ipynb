{
 "cells": [
  {
   "cell_type": "markdown",
   "metadata": {},
   "source": [
    "# Financial Calculators\n",
    "\n",
    "By allowing clients to enter custom values for each of the fields, the goal of this script is to give them a rough estimate as to how on-track they are with their retirement savings or other savings goals."
   ]
  },
  {
   "cell_type": "code",
   "execution_count": 5,
   "metadata": {},
   "outputs": [],
   "source": [
    "import random\n",
    "import numpy as np\n",
    "import datetime as dt\n",
    "import pandas as pd\n",
    "import pandas_datareader.data as web\n",
    "\n",
    "def place_value(number):\n",
    "    return (\"{:,}\".format(number))\n",
    "\n",
    "def required_savings():\n",
    "    while True:\n",
    "        try:\n",
    "            future = float(input(\"How much money are you trying to save? \"))\n",
    "\n",
    "        except Exception:\n",
    "            print(\"Enter a valid number.\")\n",
    "\n",
    "        else:\n",
    "            break\n",
    "\n",
    "    while True:\n",
    "        try:\n",
    "            r = float(input(\"What is your expected annual rate of return? \"))\n",
    "            r = r/100\n",
    "\n",
    "        except Exception:\n",
    "            print(\"Enter a valid number.\")\n",
    "\n",
    "        else:\n",
    "            break\n",
    "\n",
    "    while True:\n",
    "        try:\n",
    "            years = int(input(\"How many years until you need this money? \"))\n",
    "\n",
    "        except Exception:\n",
    "            print(\"Enter a valid number.\")\n",
    "\n",
    "        else:\n",
    "            break\n",
    "\n",
    "\n",
    "    saving = future/sum((1+r)**i for i in range(1, years + 1))\n",
    "    \n",
    "    x = print(f\"You will need to save ${place_value(round(saving, 2))} annually | ${place_value(round(saving/12, 2))} per month.\")\n",
    "    return x\n",
    "\n",
    "def projected_value():\n",
    "    while True:\n",
    "        try:\n",
    "            current_value = float(input(\"What is your current account value? \"))\n",
    "            save = float(input(\"What is your current monthly savings? \"))\n",
    "            save = save * 12\n",
    "\n",
    "        except Exception:\n",
    "            print(\"Enter a valid number.\")\n",
    "        \n",
    "        else:\n",
    "            break\n",
    "\n",
    "    while True:\n",
    "        try:\n",
    "            r = float(input(\"What is your expected annual rate of return? \"))\n",
    "            r = r/100\n",
    "\n",
    "        except Exception:\n",
    "            print(\"Enter a valid number.\")\n",
    "        \n",
    "        else:\n",
    "            break\n",
    "\n",
    "    while True:\n",
    "        try:\n",
    "            years = int(input(\"How many years are you looking to save this amount? \"))\n",
    "\n",
    "        except Exception:\n",
    "            print(\"Enter a valid number.\")\n",
    "        \n",
    "        else:\n",
    "            break\n",
    "    \n",
    "    projected_value = (current_value * (1+r)) + sum(save * (1+r)**i for i in range(1, years + 1))\n",
    "    \n",
    "    x = print(f\"Projected value in {years} years: ${place_value(round(projected_value,2))}\")\n",
    "    return x\n",
    "\n",
    "def index_investing():\n",
    "    start = dt.datetime(1993,1,28)\n",
    "    end = dt.datetime.now()\n",
    "    spy = pd.DataFrame(web.DataReader(\"SPY\", \"yahoo\", start, end)[\"Adj Close\"])\n",
    "    spy[\"Return\"] = spy[\"Adj Close\"].pct_change()\n",
    "    ret = spy[\"Return\"].mean() * 252\n",
    "    stdev = spy[\"Return\"].std() * 252**.5\n",
    "    wealth = []\n",
    "    while True:\n",
    "        try:\n",
    "            current = float(input(\"How much do you anticipate saving per month? \"))\n",
    "            current = current * 12\n",
    "        except Exception:\n",
    "            print(\"Enter a valid number.\")            \n",
    "        else:\n",
    "            break\n",
    "    while True:\n",
    "        try:\n",
    "            years = int(input(\"How many years will you be making this contribution? \"))\n",
    "        except Exception:\n",
    "            print(\"Enter a valid number.\")\n",
    "        else:\n",
    "            break\n",
    "    \n",
    "    for i in range(1000000):\n",
    "        ending = 0\n",
    "        for j in range(years):\n",
    "            ending = (current + ending) * (1 + random.gauss(ret, stdev))\n",
    "\n",
    "        wealth.append(ending)\n",
    "\n",
    "    r = np.mean(wealth)\n",
    "    sigma = np.std(wealth)\n",
    "    total = (r/(current * years) - 1) * 100\n",
    "    annualized = total/years\n",
    "\n",
    "    print(f\"Projected value: ${place_value(round(r,2))} | Standard Deviation: ${place_value(round(sigma,2))}\")\n",
    "    print(f\"Total invested: ${place_value(current * years)} | Total Return: {place_value(round(total,2))}% | Annualized Return: {place_value(round(annualized,2))}%\")\n",
    "    return"
   ]
  },
  {
   "cell_type": "markdown",
   "metadata": {},
   "source": [
    "## Savings Goal\n",
    "\n",
    "This calculator will estimate the amount you will need to save in order to achieve your desired account value."
   ]
  },
  {
   "cell_type": "code",
   "execution_count": 2,
   "metadata": {},
   "outputs": [
    {
     "name": "stdout",
     "output_type": "stream",
     "text": [
      "How much money are you trying to save? 200000\n",
      "What is your expected annual rate of return? 5\n",
      "How many years until you need this money? 5\n",
      "You will need to save $34,471.39 annually | $2,872.62 per month.\n"
     ]
    }
   ],
   "source": [
    "required_savings()"
   ]
  },
  {
   "cell_type": "markdown",
   "metadata": {},
   "source": [
    "## Savings Projection\n",
    "\n",
    "This calculator estimates what the value of your account will be after a given number of years."
   ]
  },
  {
   "cell_type": "code",
   "execution_count": 3,
   "metadata": {},
   "outputs": [
    {
     "name": "stdout",
     "output_type": "stream",
     "text": [
      "What is your current account value? 4000\n",
      "What is your current monthly savings? 300\n",
      "What is your expected annual rate of return? 8\n",
      "How many years are you looking to save this amount? 40\n",
      "Projected value in 40 years: $1,011,531.74\n"
     ]
    }
   ],
   "source": [
    "projected_value()"
   ]
  },
  {
   "cell_type": "markdown",
   "metadata": {},
   "source": [
    "## S&P 500 Investing\n",
    "\n",
    "This calculator runs a Monte Carlo simulation to project the value of your account at retirement if you were to only invest in an S&P 500 index fund."
   ]
  },
  {
   "cell_type": "code",
   "execution_count": 6,
   "metadata": {},
   "outputs": [
    {
     "name": "stdout",
     "output_type": "stream",
     "text": [
      "How much do you anticipate saving per month? 500\n",
      "How many years will you be making this contribution? 40\n",
      "Projected value: $4,196,445.52 | Standard Deviation: $4,656,511.75\n",
      "Total invested: $240,000.0 | Total Return: 1,648.52% | Annualized Return: 41.21%\n"
     ]
    }
   ],
   "source": [
    "index_investing()"
   ]
  }
 ],
 "metadata": {
  "kernelspec": {
   "display_name": "Python 3 (ipykernel)",
   "language": "python",
   "name": "python3"
  },
  "language_info": {
   "codemirror_mode": {
    "name": "ipython",
    "version": 3
   },
   "file_extension": ".py",
   "mimetype": "text/x-python",
   "name": "python",
   "nbconvert_exporter": "python",
   "pygments_lexer": "ipython3",
   "version": "3.9.7"
  }
 },
 "nbformat": 4,
 "nbformat_minor": 4
}
